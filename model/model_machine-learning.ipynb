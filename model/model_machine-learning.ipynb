{
 "cells": [
  {
   "cell_type": "code",
   "execution_count": 1,
   "metadata": {},
   "outputs": [
    {
     "name": "stderr",
     "output_type": "stream",
     "text": [
      "Using TensorFlow backend.\n"
     ]
    }
   ],
   "source": [
    "import pandas as pd\n",
    "import numpy as np\n",
    "import matplotlib.pyplot as plt\n",
    "from sklearn.model_selection import train_test_split\n",
    "import graphviz\n",
    "from sklearn import ensemble , preprocessing , metrics , svm , tree , linear_model\n",
    "from sklearn.neural_network import MLPClassifier\n",
    "from keras.utils import np_utils\n",
    "from keras.models import Sequential\n",
    "from keras.layers import Dense, Activation ,Dropout\n",
    "from keras.optimizers import RMSprop ,Adam\n",
    "\n",
    "\n",
    "#import os\n",
    "#os.environ[\"PATH\"] += os.pathsep + 'C:/ProgramData/Anaconda3/Library/bin/graphviz'\n",
    "\n",
    "\n",
    "### if u have an error on graphviz then try the code upside , it's word for me."
   ]
  },
  {
   "cell_type": "markdown",
   "metadata": {},
   "source": [
    "# Import data"
   ]
  },
  {
   "cell_type": "code",
   "execution_count": 2,
   "metadata": {},
   "outputs": [],
   "source": [
    "traindata= pd.read_csv('training_data.csv')"
   ]
  },
  {
   "cell_type": "code",
   "execution_count": 3,
   "metadata": {},
   "outputs": [],
   "source": [
    "traindata = traindata.iloc[:,1:]"
   ]
  },
  {
   "cell_type": "code",
   "execution_count": 4,
   "metadata": {},
   "outputs": [
    {
     "data": {
      "text/html": [
       "<div>\n",
       "<style scoped>\n",
       "    .dataframe tbody tr th:only-of-type {\n",
       "        vertical-align: middle;\n",
       "    }\n",
       "\n",
       "    .dataframe tbody tr th {\n",
       "        vertical-align: top;\n",
       "    }\n",
       "\n",
       "    .dataframe thead th {\n",
       "        text-align: right;\n",
       "    }\n",
       "</style>\n",
       "<table border=\"1\" class=\"dataframe\">\n",
       "  <thead>\n",
       "    <tr style=\"text-align: right;\">\n",
       "      <th></th>\n",
       "      <th>CUST_ID</th>\n",
       "      <th>HEIGHT</th>\n",
       "      <th>WEIGHT</th>\n",
       "      <th>BUDGET</th>\n",
       "      <th>AGE_0</th>\n",
       "      <th>AGE_1</th>\n",
       "      <th>AGE_2</th>\n",
       "      <th>AGE_3</th>\n",
       "      <th>AGE_4</th>\n",
       "      <th>AGE_5</th>\n",
       "      <th>...</th>\n",
       "      <th>TY6_5</th>\n",
       "      <th>TY6_6</th>\n",
       "      <th>TY7_0</th>\n",
       "      <th>TY7_1</th>\n",
       "      <th>TY7_2</th>\n",
       "      <th>TY7_3</th>\n",
       "      <th>TY7_4</th>\n",
       "      <th>TY7_5</th>\n",
       "      <th>TY7_6</th>\n",
       "      <th>BUY_TYPE</th>\n",
       "    </tr>\n",
       "  </thead>\n",
       "  <tbody>\n",
       "    <tr>\n",
       "      <th>0</th>\n",
       "      <td>2903965</td>\n",
       "      <td>0.290444</td>\n",
       "      <td>-0.069464</td>\n",
       "      <td>-0.097277</td>\n",
       "      <td>0</td>\n",
       "      <td>0</td>\n",
       "      <td>0</td>\n",
       "      <td>1</td>\n",
       "      <td>0</td>\n",
       "      <td>0</td>\n",
       "      <td>...</td>\n",
       "      <td>0</td>\n",
       "      <td>1</td>\n",
       "      <td>0</td>\n",
       "      <td>0</td>\n",
       "      <td>0</td>\n",
       "      <td>0</td>\n",
       "      <td>0</td>\n",
       "      <td>0</td>\n",
       "      <td>1</td>\n",
       "      <td>a</td>\n",
       "    </tr>\n",
       "    <tr>\n",
       "      <th>1</th>\n",
       "      <td>2815518</td>\n",
       "      <td>0.076742</td>\n",
       "      <td>0.090842</td>\n",
       "      <td>0.527346</td>\n",
       "      <td>0</td>\n",
       "      <td>0</td>\n",
       "      <td>0</td>\n",
       "      <td>0</td>\n",
       "      <td>0</td>\n",
       "      <td>0</td>\n",
       "      <td>...</td>\n",
       "      <td>0</td>\n",
       "      <td>1</td>\n",
       "      <td>0</td>\n",
       "      <td>0</td>\n",
       "      <td>0</td>\n",
       "      <td>0</td>\n",
       "      <td>0</td>\n",
       "      <td>0</td>\n",
       "      <td>1</td>\n",
       "      <td>a</td>\n",
       "    </tr>\n",
       "    <tr>\n",
       "      <th>2</th>\n",
       "      <td>526983</td>\n",
       "      <td>0.172307</td>\n",
       "      <td>-0.162807</td>\n",
       "      <td>-0.236314</td>\n",
       "      <td>0</td>\n",
       "      <td>0</td>\n",
       "      <td>0</td>\n",
       "      <td>0</td>\n",
       "      <td>0</td>\n",
       "      <td>0</td>\n",
       "      <td>...</td>\n",
       "      <td>0</td>\n",
       "      <td>0</td>\n",
       "      <td>0</td>\n",
       "      <td>0</td>\n",
       "      <td>0</td>\n",
       "      <td>0</td>\n",
       "      <td>1</td>\n",
       "      <td>0</td>\n",
       "      <td>0</td>\n",
       "      <td>d</td>\n",
       "    </tr>\n",
       "    <tr>\n",
       "      <th>3</th>\n",
       "      <td>2615375</td>\n",
       "      <td>0.526718</td>\n",
       "      <td>0.023878</td>\n",
       "      <td>-0.231325</td>\n",
       "      <td>0</td>\n",
       "      <td>0</td>\n",
       "      <td>0</td>\n",
       "      <td>0</td>\n",
       "      <td>0</td>\n",
       "      <td>1</td>\n",
       "      <td>...</td>\n",
       "      <td>0</td>\n",
       "      <td>0</td>\n",
       "      <td>0</td>\n",
       "      <td>0</td>\n",
       "      <td>0</td>\n",
       "      <td>0</td>\n",
       "      <td>1</td>\n",
       "      <td>0</td>\n",
       "      <td>0</td>\n",
       "      <td>e</td>\n",
       "    </tr>\n",
       "    <tr>\n",
       "      <th>4</th>\n",
       "      <td>1867789</td>\n",
       "      <td>-0.152571</td>\n",
       "      <td>-0.396164</td>\n",
       "      <td>-0.238327</td>\n",
       "      <td>0</td>\n",
       "      <td>0</td>\n",
       "      <td>0</td>\n",
       "      <td>0</td>\n",
       "      <td>0</td>\n",
       "      <td>0</td>\n",
       "      <td>...</td>\n",
       "      <td>0</td>\n",
       "      <td>0</td>\n",
       "      <td>0</td>\n",
       "      <td>0</td>\n",
       "      <td>0</td>\n",
       "      <td>1</td>\n",
       "      <td>0</td>\n",
       "      <td>0</td>\n",
       "      <td>0</td>\n",
       "      <td>f</td>\n",
       "    </tr>\n",
       "  </tbody>\n",
       "</table>\n",
       "<p>5 rows × 131 columns</p>\n",
       "</div>"
      ],
      "text/plain": [
       "   CUST_ID    HEIGHT    WEIGHT    BUDGET  AGE_0  AGE_1  AGE_2  AGE_3  AGE_4  \\\n",
       "0  2903965  0.290444 -0.069464 -0.097277      0      0      0      1      0   \n",
       "1  2815518  0.076742  0.090842  0.527346      0      0      0      0      0   \n",
       "2   526983  0.172307 -0.162807 -0.236314      0      0      0      0      0   \n",
       "3  2615375  0.526718  0.023878 -0.231325      0      0      0      0      0   \n",
       "4  1867789 -0.152571 -0.396164 -0.238327      0      0      0      0      0   \n",
       "\n",
       "   AGE_5  ...  TY6_5  TY6_6  TY7_0  TY7_1  TY7_2  TY7_3  TY7_4  TY7_5  TY7_6  \\\n",
       "0      0  ...      0      1      0      0      0      0      0      0      1   \n",
       "1      0  ...      0      1      0      0      0      0      0      0      1   \n",
       "2      0  ...      0      0      0      0      0      0      1      0      0   \n",
       "3      1  ...      0      0      0      0      0      0      1      0      0   \n",
       "4      0  ...      0      0      0      0      0      1      0      0      0   \n",
       "\n",
       "   BUY_TYPE  \n",
       "0         a  \n",
       "1         a  \n",
       "2         d  \n",
       "3         e  \n",
       "4         f  \n",
       "\n",
       "[5 rows x 131 columns]"
      ]
     },
     "execution_count": 4,
     "metadata": {},
     "output_type": "execute_result"
    }
   ],
   "source": [
    "traindata.head()"
   ]
  },
  {
   "cell_type": "code",
   "execution_count": 5,
   "metadata": {},
   "outputs": [],
   "source": [
    "trainx = traindata.iloc[:,1:-1]\n",
    "trainy = traindata.iloc[:,-1]"
   ]
  },
  {
   "cell_type": "markdown",
   "metadata": {},
   "source": [
    "# sklearn model implement\n",
    "\n",
    "## split the data first "
   ]
  },
  {
   "cell_type": "code",
   "execution_count": 6,
   "metadata": {},
   "outputs": [],
   "source": [
    "train_X , test_X , train_y , test_y = train_test_split (trainx , trainy , test_size = 0.1)"
   ]
  },
  {
   "cell_type": "markdown",
   "metadata": {},
   "source": [
    "# decision_tree model "
   ]
  },
  {
   "cell_type": "code",
   "execution_count": 7,
   "metadata": {},
   "outputs": [
    {
     "name": "stdout",
     "output_type": "stream",
     "text": [
      "the score of tree =  0.9143392444773648\n"
     ]
    }
   ],
   "source": [
    "treeclf = tree.DecisionTreeClassifier ()\n",
    "tree_clf = treeclf.fit (train_X , train_y)\n",
    "print ('the score of tree = ' , tree_clf.score (test_X , test_y))"
   ]
  },
  {
   "cell_type": "markdown",
   "metadata": {},
   "source": [
    "# random forest model"
   ]
  },
  {
   "cell_type": "code",
   "execution_count": 8,
   "metadata": {},
   "outputs": [
    {
     "name": "stdout",
     "output_type": "stream",
     "text": [
      "the score of forest =  0.9272798570868371\n"
     ]
    }
   ],
   "source": [
    "forest = ensemble.RandomForestClassifier (n_estimators = 300)\n",
    "forest_fit = forest.fit (train_X , train_y)\n",
    "print ('the score of forest = ' , forest_fit.score (test_X , test_y))"
   ]
  },
  {
   "cell_type": "markdown",
   "metadata": {},
   "source": [
    "# logistic model"
   ]
  },
  {
   "cell_type": "code",
   "execution_count": 8,
   "metadata": {},
   "outputs": [
    {
     "name": "stderr",
     "output_type": "stream",
     "text": [
      "C:\\ProgramData\\Anaconda3\\lib\\site-packages\\sklearn\\linear_model\\logistic.py:433: FutureWarning: Default solver will be changed to 'lbfgs' in 0.22. Specify a solver to silence this warning.\n",
      "  FutureWarning)\n",
      "C:\\ProgramData\\Anaconda3\\lib\\site-packages\\sklearn\\linear_model\\logistic.py:460: FutureWarning: Default multi_class will be changed to 'auto' in 0.22. Specify the multi_class option to silence this warning.\n",
      "  \"this warning.\", FutureWarning)\n"
     ]
    },
    {
     "name": "stdout",
     "output_type": "stream",
     "text": [
      "the score of logistic =  0.9134678227528212\n"
     ]
    }
   ],
   "source": [
    "logistic_regr = linear_model.LogisticRegression ()\n",
    "logistic_regr.fit (train_X , train_y)\n",
    "print ('the score of logistic = ' , logistic_regr.score (test_X , test_y))"
   ]
  },
  {
   "cell_type": "markdown",
   "metadata": {},
   "source": [
    "# Svm model"
   ]
  },
  {
   "cell_type": "code",
   "execution_count": 11,
   "metadata": {},
   "outputs": [
    {
     "name": "stderr",
     "output_type": "stream",
     "text": [
      "C:\\ProgramData\\Anaconda3\\lib\\site-packages\\sklearn\\svm\\base.py:196: FutureWarning: The default value of gamma will change from 'auto' to 'scale' in version 0.22 to account better for unscaled features. Set gamma explicitly to 'auto' or 'scale' to avoid this warning.\n",
      "  \"avoid this warning.\", FutureWarning)\n"
     ]
    },
    {
     "name": "stdout",
     "output_type": "stream",
     "text": [
      "the score of svm =  0.9069321598187443\n"
     ]
    }
   ],
   "source": [
    "svc = svm.SVC ()\n",
    "svc_fit = svc.fit (train_X , train_y)\n",
    "print ('the score of svm = ' , svc_fit.score (test_X , test_y))"
   ]
  },
  {
   "cell_type": "markdown",
   "metadata": {},
   "source": [
    "# visialization the decision tree model using graphviz model\n",
    "\n",
    "## use only depth = 5   because it is easy to analysis"
   ]
  },
  {
   "cell_type": "code",
   "execution_count": 10,
   "metadata": {},
   "outputs": [
    {
     "data": {
      "text/plain": [
       "'finaltree.pdf'"
      ]
     },
     "execution_count": 10,
     "metadata": {},
     "output_type": "execute_result"
    }
   ],
   "source": [
    "class_names = ['A' , 'B' , 'C' , 'D' , 'E' , 'F' , 'G']\n",
    "featurenames = trainx.columns.tolist ()\n",
    "dot_data = tree.export_graphviz (tree_clf , out_file = None , feature_names = featurenames ,\n",
    "                                 class_names = class_names , max_depth = 5 ,\n",
    "                                 filled = True , rounded = True ,\n",
    "                                 special_characters = True)\n",
    "graph = graphviz.Source (dot_data)\n",
    "graph.render ('finaltree')"
   ]
  },
  {
   "cell_type": "code",
   "execution_count": 9,
   "metadata": {},
   "outputs": [],
   "source": [
    "#import os\n",
    "#os.environ[\"PATH\"] += os.pathsep + 'C:/ProgramData/Anaconda3/Library/bin/graphviz'"
   ]
  },
  {
   "cell_type": "code",
   "execution_count": null,
   "metadata": {},
   "outputs": [],
   "source": []
  }
 ],
 "metadata": {
  "kernelspec": {
   "display_name": "Python 3",
   "language": "python",
   "name": "python3"
  },
  "language_info": {
   "codemirror_mode": {
    "name": "ipython",
    "version": 3
   },
   "file_extension": ".py",
   "mimetype": "text/x-python",
   "name": "python",
   "nbconvert_exporter": "python",
   "pygments_lexer": "ipython3",
   "version": "3.7.2"
  }
 },
 "nbformat": 4,
 "nbformat_minor": 2
}
